{
 "cells": [
  {
   "cell_type": "markdown",
   "metadata": {},
   "source": [
    "### Basic info to extract at beginning\n",
    "##### Main package: PyPDF2 \n",
    "Functions 'getDocumentInfo()' and 'getNumPages()' under the PyPDF2 are very useful.\n",
    "\n",
    "Can get the following info(if the metadata contains anything):\n",
    "\n",
    "· Author <br>\n",
    "· Creator<br>\n",
    "· Producer<br>\n",
    "· Subject<br>\n",
    "· Title<br>\n",
    "· Number of page<br>\n"
   ]
  },
  {
   "cell_type": "code",
   "execution_count": 30,
   "metadata": {},
   "outputs": [],
   "source": [
    "from PyPDF2 import PdfFileReader"
   ]
  },
  {
   "cell_type": "code",
   "execution_count": 45,
   "metadata": {},
   "outputs": [],
   "source": [
    "def extractInfo(pdfpath):\n",
    "    with open(pdfpath,'rb') as f:\n",
    "        pdf = PdfFileReader(f)\n",
    "        info = pdf.getDocumentInfo()\n",
    "        num_of_pages = pdf.getNumPages()\n",
    "    \n",
    "    text = f'''\n",
    "    Information about {pdfpath}:\n",
    "    \n",
    "    · Author:{info.author}\n",
    "    · Creator:{info.creator}\n",
    "    · Producer:{info.producer}\n",
    "    · Subject:{info.subject}\n",
    "    · Title:{info.title}\n",
    "    · Number of pages:{num_of_pages}\n",
    "    '''\n",
    "    print(text)\n",
    "    return info"
   ]
  },
  {
   "cell_type": "markdown",
   "metadata": {},
   "source": [
    "### Then extract text\n",
    "Using method 'extractText()'"
   ]
  },
  {
   "cell_type": "code",
   "execution_count": 55,
   "metadata": {},
   "outputs": [],
   "source": [
    "def extractText(pdfpath):\n",
    "    content_as_string = ''\n",
    "    with open(pdfpath,'rb') as f:\n",
    "        pdf = PdfFileReader(f)\n",
    "        for i in range(0,pdf.getNumPages()):\n",
    "            string_per_page = pdf.getPage(i).extractText()\n",
    "            content_as_string+= string_per_page+'\\n'\n",
    "    with open('output.txt','w',encoding = 'utf-8') as f:\n",
    "        \n",
    "        f.write(content_as_string)"
   ]
  },
  {
   "cell_type": "markdown",
   "metadata": {},
   "source": [
    "### The format is a little messed up\n",
    "\n",
    "Further improvement:\n",
    "formatting using regular expression?\n",
    "\n",
    "or a New package 'pdfminer'"
   ]
  }
 ],
 "metadata": {
  "kernelspec": {
   "display_name": "Python 3",
   "language": "python",
   "name": "python3"
  },
  "language_info": {
   "codemirror_mode": {
    "name": "ipython",
    "version": 3
   },
   "file_extension": ".py",
   "mimetype": "text/x-python",
   "name": "python",
   "nbconvert_exporter": "python",
   "pygments_lexer": "ipython3",
   "version": "3.7.4"
  }
 },
 "nbformat": 4,
 "nbformat_minor": 2
}
